{
 "cells": [
  {
   "cell_type": "code",
   "execution_count": 1,
   "metadata": {
    "collapsed": true
   },
   "outputs": [],
   "source": [
    "%load_ext autoreload\n",
    "%autoreload 2"
   ]
  },
  {
   "cell_type": "code",
   "execution_count": 2,
   "metadata": {
    "collapsed": true
   },
   "outputs": [],
   "source": [
    "from functools import reduce\n",
    "from math import pi, exp, factorial, floor\n",
    "import numpy as np"
   ]
  },
  {
   "cell_type": "code",
   "execution_count": 3,
   "metadata": {
    "collapsed": true
   },
   "outputs": [],
   "source": [
    "from pyints.one import overlap\n",
    "from pyints.one import electric_field_from_V as electric_field"
   ]
  },
  {
   "cell_type": "code",
   "execution_count": 4,
   "metadata": {
    "collapsed": true
   },
   "outputs": [],
   "source": [
    "def norm2(a):\n",
    "    return np.dot(a, a)\n",
    "\n",
    "def fact2(n):\n",
    "    return reduce(int.__mul__, range(n, 0, -2), 1)\n",
    "\n",
    "def binomial(n, k):\n",
    "    if n == k:\n",
    "        return 1\n",
    "    assert n > k\n",
    "    return factorial(n) // (factorial(k) * factorial(n - k))\n",
    "\n",
    "def binomial_prefactor(s, ia, ib, xpa, xpb):\n",
    "    total = 0\n",
    "    for t in range(s+1):\n",
    "        if s-ia <= t <= ib:\n",
    "            total += binomial(ia, s-t)*binomial(ib, t)*pow(xpa, ia-s+t)*pow(xpb,ib-t)\n",
    "    return total\n",
    "\n",
    "def gaussian_product_center(alpha1, A, alpha2, B):\n",
    "    return ((alpha1 * A) + (alpha2 * B)) / (alpha1 + alpha2)\n",
    "\n",
    "def overlap1d(l1, l2, PAx, PBx, gamma):\n",
    "    total = 0\n",
    "    for i in range(1+int(floor(0.5*(l1+l2)))):\n",
    "        total += binomial_prefactor(2*i, l1, l2, PAx, PBx) * fact2(2*i-1) / pow(2*gamma, i)\n",
    "    return total\n",
    "\n",
    "def overlap_pyquante(alpha1, lmn1, A, alpha2, lmn2, B):\n",
    "    l1, m1, n1 = lmn1\n",
    "    l2, m2, n2 = lmn2\n",
    "    rab2 = norm2(A - B)\n",
    "    gamma = alpha1 + alpha2\n",
    "    P = gaussian_product_center(alpha1, A, alpha2, B)\n",
    "    \n",
    "    pre = pow(pi/gamma, 1.5) * exp(-alpha1 * alpha2 * rab2 / gamma)\n",
    "    \n",
    "    wx = overlap1d(l1, l2, P[0] - A[0], P[0] - B[0], gamma)\n",
    "    wy = overlap1d(m1, m2, P[1] - A[1], P[1] - B[1], gamma)\n",
    "    wz = overlap1d(n1, n2, P[2] - A[2], P[2] - B[2], gamma)\n",
    "    \n",
    "    return pre * wx * wy * wz"
   ]
  },
  {
   "cell_type": "code",
   "execution_count": 5,
   "metadata": {
    "collapsed": true
   },
   "outputs": [],
   "source": [
    "def binomial_prefactor_2(x, Ax, Bx, Px, l, m):\n",
    "    total = 0\n",
    "    for ix in range(l):\n",
    "        for jx in range(m):\n",
    "            total += \\\n",
    "                binomial(l, ix) * \\\n",
    "                binomial(m, jx) * \\\n",
    "                ((x - Px)**(ix + jx)) * \\\n",
    "                ((Px - Ax)**(l - ix)) * \\\n",
    "                ((Px - Bx)**(m - jx))\n",
    "    return total"
   ]
  },
  {
   "cell_type": "code",
   "execution_count": 30,
   "metadata": {
    "collapsed": false
   },
   "outputs": [],
   "source": [
    "def overlap_three_center(alpha1, lmn1, A, alpha2, lmn2, B, alpha3, lmn3, C):\n",
    "    ax, ay, az = lmn1\n",
    "    bx, by, bz = lmn2\n",
    "\n",
    "    gamma = alpha1 + alpha2\n",
    "    P = gaussian_product_center(alpha1, A, alpha2, B)\n",
    "    \n",
    "    total = 0\n",
    "    for ix in range(ax + 1):\n",
    "        for jx in range(bx + 1):\n",
    "            for iy in range(ay + 1):\n",
    "                for jy in range(by + 1):\n",
    "                    for iz in range(az + 1):\n",
    "                        for jz in range(bz + 1):\n",
    "                            total += (\n",
    "                                binomial(ax, ix) * \\\n",
    "                                binomial(bx, jx) * \\\n",
    "                                binomial(ay, iy) * \\\n",
    "                                binomial(by, jy) * \\\n",
    "                                binomial(az, iz) * \\\n",
    "                                binomial(bz, jz) * \\\n",
    "                                ((P[0] - A[0])**(ax - ix)) * \\\n",
    "                                ((P[1] - A[1])**(ay - iy)) * \\\n",
    "                                ((P[2] - A[2])**(az - iz)) * \\\n",
    "                                ((P[0] - B[0])**(bx - jx)) * \\\n",
    "                                ((P[1] - B[1])**(by - jy)) * \\\n",
    "                                ((P[2] - B[2])**(bz - jz)) * \\\n",
    "                                overlap(gamma, [ix + jx, iy + jy, iz + jz], P, alpha3, lmn3, C)\n",
    "                            )\n",
    "    \n",
    "    return total"
   ]
  },
  {
   "cell_type": "code",
   "execution_count": 14,
   "metadata": {
    "collapsed": true
   },
   "outputs": [],
   "source": [
    "import itertools as i"
   ]
  },
  {
   "cell_type": "code",
   "execution_count": 31,
   "metadata": {
    "collapsed": false,
    "scrolled": true
   },
   "outputs": [
    {
     "name": "stdout",
     "output_type": "stream",
     "text": [
      "0.0182571654982\n",
      "-0.00620743626938\n",
      "0.00576196143123\n",
      "-0.00136563597926\n",
      "0.00126763151487\n",
      "0.00143127121952\n",
      "0.0078784781131\n",
      "-0.00731308144851\n",
      "-0.00825713378096\n",
      "0.00445198213986\n"
     ]
    }
   ],
   "source": [
    "for lmn3 in i.combinations_with_replacement(range(3), 3):\n",
    "    print(overlap_three_center(alpha_A, [1, 0, 0], A, alpha_B, [1, 0, 0], B, alpha_B, list(lmn3), C))"
   ]
  },
  {
   "cell_type": "code",
   "execution_count": 33,
   "metadata": {
    "collapsed": false
   },
   "outputs": [
    {
     "name": "stdout",
     "output_type": "stream",
     "text": [
      "-0.105327247501\n",
      "-0.105327247501\n",
      "-0.0622031399323\n"
     ]
    }
   ],
   "source": [
    "print(overlap_three_center(alpha_A, [1, 0, 0], A, alpha_B, [1, 0, 0], B, alpha_B, [1, 0, 0], C))\n",
    "print(overlap_three_center(alpha_B, [1, 0, 0], B, alpha_A, [1, 0, 0], A, alpha_B, [1, 0, 0], C))\n",
    "print(overlap_three_center(alpha_A, [1, 0, 0], A, alpha_B, [1, 0, 0], C, alpha_B, [1, 0, 0], B))"
   ]
  },
  {
   "cell_type": "code",
   "execution_count": 7,
   "metadata": {
    "collapsed": true
   },
   "outputs": [],
   "source": [
    "alpha_A = 0.5\n",
    "alpha_B = 1.0\n",
    "A = np.array([0.5, -0.6, 0.4])\n",
    "B = np.array([-0.5, 0.4, -0.3])\n",
    "C = np.array([-0.4, -0.3, 0.5])\n",
    "D = np.array([0.3, 0.5, -0.6])"
   ]
  },
  {
   "cell_type": "code",
   "execution_count": 8,
   "metadata": {
    "collapsed": false,
    "scrolled": true
   },
   "outputs": [],
   "source": [
    "overlap_analytic = overlap(alpha_A, [1, 0, 0], A, alpha_B, [1, 0, 0], B)\n",
    "overlap_analytic_pyquante = overlap_pyquante(alpha_A, [1, 0, 0], A, alpha_B, [1, 0, 0], B)\n",
    "assert abs(overlap_analytic - overlap_analytic_pyquante) < 1.0e-16"
   ]
  },
  {
   "cell_type": "code",
   "execution_count": null,
   "metadata": {
    "collapsed": true
   },
   "outputs": [],
   "source": [
    "def overlap1d_numeric(l1, l2, PAx, PBx, gamma):\n",
    "    total = 0\n",
    "    for i in range(l1 + 1):\n",
    "        for j in range(l2 + 1):\n",
    "            total += (\n",
    "                binomial(l, ix) * \\\n",
    "                binomial(m, jx) * \\\n",
    "                ((x - Px)**(ix + jx)) * \\\n",
    "                ((Px - Ax)**(l - ix)) * \\\n",
    "                ((Px - Bx)**(m - jx))\n",
    "\n",
    "    # for i in range(1+int(floor(0.5*(l1+l2)))):\n",
    "    #     total += binomial_prefactor(2*i, l1, l2, PAx, PBx) * fact2(2*i-1) / pow(2*gamma, i)\n",
    "    return total"
   ]
  },
  {
   "cell_type": "code",
   "execution_count": null,
   "metadata": {
    "collapsed": true
   },
   "outputs": [],
   "source": [
    "def overlap_numeric(alpha1, lmn1, A, alpha2, lmn2, B):\n",
    "    l1, m1, n1 = lmn1\n",
    "    l2, m2, n2 = lmn2\n",
    "    rab2 = norm2(A - B)\n",
    "    gamma = alpha1 + alpha2\n",
    "    P = gaussian_product_center(alpha1, A, alpha2, B)\n",
    "    \n",
    "    pre = pow(pi/gamma, 1.5) * exp(-alpha1 * alpha2 * rab2 / gamma)\n",
    "    \n",
    "    wx = overlap1d_numeric(l1, l2, P[0] - A[0], P[0] - B[0], gamma)\n",
    "    wy = overlap1d_numeric(m1, m2, P[1] - A[1], P[1] - B[1], gamma)\n",
    "    wz = overlap1d_numeric(n1, n2, P[2] - A[2], P[2] - B[2], gamma)\n",
    "    \n",
    "    return pre * wx * wy * wz"
   ]
  },
  {
   "cell_type": "code",
   "execution_count": 18,
   "metadata": {
    "collapsed": true
   },
   "outputs": [],
   "source": [
    "import scipy.integrate as spi"
   ]
  },
  {
   "cell_type": "code",
   "execution_count": 19,
   "metadata": {
    "collapsed": false
   },
   "outputs": [
    {
     "name": "stderr",
     "output_type": "stream",
     "text": [
      "/usr/local/lib/python3.4/site-packages/scipy/integrate/quadpack.py:352: IntegrationWarning: The integral is probably divergent, or slowly convergent.\n",
      "  warnings.warn(msg, IntegrationWarning)\n"
     ]
    },
    {
     "data": {
      "text/plain": [
       "(-0.048951572155845106, 1.3763160352661674e-05)"
      ]
     },
     "execution_count": 19,
     "metadata": {},
     "output_type": "execute_result"
    }
   ],
   "source": [
    "spi.quad(lambda alpha_C: (alpha_C ** 2) * overlap_analytic, 0, np.inf)"
   ]
  },
  {
   "cell_type": "code",
   "execution_count": 21,
   "metadata": {
    "collapsed": false
   },
   "outputs": [
    {
     "name": "stderr",
     "output_type": "stream",
     "text": [
      "/usr/local/lib/python3.4/site-packages/scipy/integrate/quadpack.py:352: IntegrationWarning: The integral is probably divergent, or slowly convergent.\n",
      "  warnings.warn(msg, IntegrationWarning)\n"
     ]
    },
    {
     "data": {
      "text/plain": [
       "(-0.33156386027260937, 0.0014214591807548138)"
      ]
     },
     "execution_count": 21,
     "metadata": {},
     "output_type": "execute_result"
    }
   ],
   "source": [
    "spi.quad(lambda alpha_C: (alpha_C ** 2) * (exp(-alpha_C)) * overlap_analytic, 0, np.inf)"
   ]
  }
 ],
 "metadata": {
  "kernelspec": {
   "display_name": "Python 3",
   "language": "python",
   "name": "python3"
  },
  "language_info": {
   "codemirror_mode": {
    "name": "ipython",
    "version": 3
   },
   "file_extension": ".py",
   "mimetype": "text/x-python",
   "name": "python",
   "nbconvert_exporter": "python",
   "pygments_lexer": "ipython3",
   "version": "3.4.3"
  }
 },
 "nbformat": 4,
 "nbformat_minor": 0
}
